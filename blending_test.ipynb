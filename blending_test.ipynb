{
 "cells": [
  {
   "cell_type": "markdown",
   "metadata": {},
   "source": [
    "# Testing the Effects of Blending"
   ]
  },
  {
   "cell_type": "markdown",
   "metadata": {},
   "source": [
    "We saw in [demo 1](demo-1.ipynb) that the measured pdf over the galaxy models (gpdf hereafter) looked pretty unphysical. One of the proposed causes of this was blending between sources. To test the impact of blending on the gpdf we can compare to the gpdf generated from images with a reduced source count and hence reduced incidence of blending. Before we begin though, we need to increase our control sample -- 1 image with ~1000 sources is not enough."
   ]
  },
  {
   "cell_type": "code",
   "execution_count": 1,
   "metadata": {},
   "outputs": [],
   "source": [
    "import numpy as np\n",
    "import os\n",
    "\n",
    "# these define the spacing and limits of the original galaxy model grid\n",
    "minr = 0.1 # min\n",
    "maxr = 25 # max\n",
    "nr = 21 # and number of radius steps\n",
    "minn = 0.5 # min\n",
    "maxn = 5 # max\n",
    "nn = 20 # and number of sersic index steps"
   ]
  },
  {
   "cell_type": "markdown",
   "metadata": {},
   "source": [
    "### Increasing the original sample size\n",
    "\n",
    "We ran 1065 instances of the image generation, galaxy model fitting and gpdf generation script as seen in [demo 1](demo-1.ipynb) and stored the generated galaxy model pdf for each. This corresponds to >1E6 sources fitted, which should be plenty to be confident of the results."
   ]
  },
  {
   "cell_type": "code",
   "execution_count": 2,
   "metadata": {},
   "outputs": [],
   "source": [
    "_dir1 = 'gpdf_orig/' # the output of the runs are stored in here\n",
    "files1 = os.listdir(_dir1)\n",
    "data1 = np.array([np.genfromtxt(_dir1+f) for f in files1])"
   ]
  },
  {
   "cell_type": "markdown",
   "metadata": {},
   "source": [
    "Now combine them."
   ]
  },
  {
   "cell_type": "code",
   "execution_count": 3,
   "metadata": {},
   "outputs": [],
   "source": [
    "gpdf_orig = np.sum(data1, axis=0)\n",
    "gpdf_orig = (gpdf_orig/np.sum(gpdf_orig)).reshape(nr,nn)"
   ]
  },
  {
   "cell_type": "markdown",
   "metadata": {},
   "source": [
    "And display the result."
   ]
  },
  {
   "cell_type": "code",
   "execution_count": 4,
   "metadata": {},
   "outputs": [
    {
     "data": {
      "text/plain": [
       "Text(0, 0.5, 'n')"
      ]
     },
     "execution_count": 4,
     "metadata": {},
     "output_type": "execute_result"
    },
    {
     "data": {
      "image/png": "[encoded data removed]",
      "text/plain": [
       "<Figure size 432x288 with 2 Axes>"
      ]
     },
     "metadata": {
      "needs_background": "light"
     },
     "output_type": "display_data"
    }
   ],
   "source": [
    "%matplotlib inline\n",
    "import matplotlib.pyplot as plt\n",
    "from matplotlib.colors import PowerNorm\n",
    "\n",
    "plt.figure()\n",
    "plt.imshow(gpdf_orig.T, origin='lower', \n",
    "           extent=[np.log10(minr),np.log10(maxr),minn,maxn], \n",
    "           aspect=0.45, norm=PowerNorm(gamma=0.5))\n",
    "plt.colorbar()\n",
    "plt.xlabel(\"r\")\n",
    "plt.ylabel(\"n\")"
   ]
  },
  {
   "cell_type": "markdown",
   "metadata": {},
   "source": [
    "As we can see, the general trend resembles that of [demo 1](demo-1.ipynb) but it is much cleaner (note the different colour scaling)."
   ]
  },
  {
   "cell_type": "markdown",
   "metadata": {},
   "source": [
    "### Reduced source density\n",
    "\n",
    "We then ran the same experiment but reduced the number of sources per axis from 40 to 10 corresponding to a reduction in source density by a factor of 16. This time we generated and processed more images - 5352 - to make up for the lower source density. This corresponds to about 500k sources, fewer than before but still plenty enough to be confident of the results."
   ]
  },
  {
   "cell_type": "code",
   "execution_count": 5,
   "metadata": {},
   "outputs": [
    {
     "data": {
      "text/plain": [
       "Text(0, 0.5, 'n')"
      ]
     },
     "execution_count": 5,
     "metadata": {},
     "output_type": "execute_result"
    },
    {
     "data": {
      "image/png": "[encoded data removed]",
      "text/plain": [
       "<Figure size 432x288 with 2 Axes>"
      ]
     },
     "metadata": {
      "needs_background": "light"
     },
     "output_type": "display_data"
    }
   ],
   "source": [
    "# load the results of the runs\n",
    "_dir2 = 'gpdf_rsd/' # the output of these runs are stored in here\n",
    "files2 = os.listdir(_dir2)\n",
    "data2 = np.array([np.genfromtxt(_dir2+f) for f in files2])\n",
    "\n",
    "# and combine them\n",
    "gpdf_rsd = np.sum(data2, axis=0)\n",
    "gpdf_rsd = (gpdf_rsd/np.sum(gpdf_rsd)).reshape(nr,nn)\n",
    "\n",
    "# and display the result\n",
    "plt.figure()\n",
    "plt.imshow(gpdf_rsd.T, origin='lower', \n",
    "           extent=[np.log10(minr),np.log10(maxr),minn,maxn], \n",
    "           aspect=0.45, norm=PowerNorm(gamma=0.5))\n",
    "plt.colorbar()\n",
    "plt.xlabel(\"r\")\n",
    "plt.ylabel(\"n\")"
   ]
  },
  {
   "cell_type": "markdown",
   "metadata": {},
   "source": [
    "The distribution away from the edge is broadly the same shape, but the proportion of sources at log(r)~1.5 is smaller than before (the peak is half the size). This suggest blending is probably affecting the resulting distribution in some way, but that it's not the only cause."
   ]
  }
 ],
 "metadata": {
  "kernelspec": {
   "display_name": "Python 3",
   "language": "python",
   "name": "python3"
  },
  "language_info": {
   "codemirror_mode": {
    "name": "ipython",
    "version": 3
   },
   "file_extension": ".py",
   "mimetype": "text/x-python",
   "name": "python",
   "nbconvert_exporter": "python",
   "pygments_lexer": "ipython3",
   "version": "3.5.2"
  }
 },
 "nbformat": 4,
 "nbformat_minor": 2
}
